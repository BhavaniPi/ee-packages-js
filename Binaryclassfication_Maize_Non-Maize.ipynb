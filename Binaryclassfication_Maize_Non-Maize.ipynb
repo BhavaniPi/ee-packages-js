{
  "nbformat": 4,
  "nbformat_minor": 0,
  "metadata": {
    "colab": {
      "provenance": [],
      "authorship_tag": "ABX9TyP9lOJZPLRSkTiwvkdONR6R",
      "include_colab_link": true
    },
    "kernelspec": {
      "name": "python3",
      "display_name": "Python 3"
    },
    "language_info": {
      "name": "python"
    }
  },
  "cells": [
    {
      "cell_type": "markdown",
      "metadata": {
        "id": "view-in-github",
        "colab_type": "text"
      },
      "source": [
        "<a href=\"https://colab.research.google.com/github/BhavaniPi/ee-packages-js/blob/main/Binaryclassfication_Maize_Non-Maize.ipynb\" target=\"_parent\"><img src=\"https://colab.research.google.com/assets/colab-badge.svg\" alt=\"Open In Colab\"/></a>"
      ]
    },
    {
      "cell_type": "code",
      "execution_count": 1,
      "metadata": {
        "colab": {
          "base_uri": "https://localhost:8080/"
        },
        "id": "DceiG8N-Htdb",
        "outputId": "c229020a-2b69-4160-db0a-9fa3c3ce6afa"
      },
      "outputs": [
        {
          "output_type": "stream",
          "name": "stdout",
          "text": [
            "Looking in indexes: https://pypi.org/simple, https://us-python.pkg.dev/colab-wheels/public/simple/\n",
            "Collecting geemap\n",
            "  Downloading geemap-0.19.6-py2.py3-none-any.whl (2.1 MB)\n",
            "\u001b[2K     \u001b[90m━━━━━━━━━━━━━━━━━━━━━━━━━━━━━━━━━━━━━━━━\u001b[0m \u001b[32m2.1/2.1 MB\u001b[0m \u001b[31m16.5 MB/s\u001b[0m eta \u001b[36m0:00:00\u001b[0m\n",
            "\u001b[?25hRequirement already satisfied: ipywidgets<8.0.0 in /usr/local/lib/python3.8/dist-packages (from geemap) (7.7.1)\n",
            "Collecting sankee>=0.1.0\n",
            "  Downloading sankee-0.2.1.tar.gz (29 kB)\n",
            "  Preparing metadata (setup.py) ... \u001b[?25l\u001b[?25hdone\n",
            "Collecting whiteboxgui>=0.6.0\n",
            "  Downloading whiteboxgui-2.2.0-py2.py3-none-any.whl (99 kB)\n",
            "\u001b[2K     \u001b[90m━━━━━━━━━━━━━━━━━━━━━━━━━━━━━━━━━━━━━━━━\u001b[0m \u001b[32m99.6/99.6 KB\u001b[0m \u001b[31m6.4 MB/s\u001b[0m eta \u001b[36m0:00:00\u001b[0m\n",
            "\u001b[?25hCollecting bqplot\n",
            "  Downloading bqplot-0.12.36-py2.py3-none-any.whl (1.2 MB)\n",
            "\u001b[2K     \u001b[90m━━━━━━━━━━━━━━━━━━━━━━━━━━━━━━━━━━━━━━━━\u001b[0m \u001b[32m1.2/1.2 MB\u001b[0m \u001b[31m41.5 MB/s\u001b[0m eta \u001b[36m0:00:00\u001b[0m\n",
            "\u001b[?25hRequirement already satisfied: pillow in /usr/local/lib/python3.8/dist-packages (from geemap) (7.1.2)\n",
            "Requirement already satisfied: pandas in /usr/local/lib/python3.8/dist-packages (from geemap) (1.3.5)\n",
            "Collecting ipyfilechooser>=0.6.0\n",
            "  Downloading ipyfilechooser-0.6.0-py3-none-any.whl (11 kB)\n",
            "Collecting colour\n",
            "  Downloading colour-0.1.5-py2.py3-none-any.whl (23 kB)\n",
            "Collecting geojson\n",
            "  Downloading geojson-2.5.0-py2.py3-none-any.whl (14 kB)\n",
            "Collecting ipytree\n",
            "  Downloading ipytree-0.2.2-py2.py3-none-any.whl (1.3 MB)\n",
            "\u001b[2K     \u001b[90m━━━━━━━━━━━━━━━━━━━━━━━━━━━━━━━━━━━━━━━━\u001b[0m \u001b[32m1.3/1.3 MB\u001b[0m \u001b[31m50.3 MB/s\u001b[0m eta \u001b[36m0:00:00\u001b[0m\n",
            "\u001b[?25hCollecting pyshp>=2.1.3\n",
            "  Downloading pyshp-2.3.1-py2.py3-none-any.whl (46 kB)\n",
            "\u001b[2K     \u001b[90m━━━━━━━━━━━━━━━━━━━━━━━━━━━━━━━━━━━━━━━━\u001b[0m \u001b[32m46.5/46.5 KB\u001b[0m \u001b[31m3.0 MB/s\u001b[0m eta \u001b[36m0:00:00\u001b[0m\n",
            "\u001b[?25hCollecting pyperclip\n",
            "  Downloading pyperclip-1.8.2.tar.gz (20 kB)\n",
            "  Preparing metadata (setup.py) ... \u001b[?25l\u001b[?25hdone\n",
            "Collecting ffmpeg-python\n",
            "  Downloading ffmpeg_python-0.2.0-py3-none-any.whl (25 kB)\n",
            "Collecting pycrs\n",
            "  Downloading PyCRS-1.0.2.tar.gz (36 kB)\n",
            "  Preparing metadata (setup.py) ... \u001b[?25l\u001b[?25hdone\n",
            "Collecting geocoder\n",
            "  Downloading geocoder-1.38.1-py2.py3-none-any.whl (98 kB)\n",
            "\u001b[2K     \u001b[90m━━━━━━━━━━━━━━━━━━━━━━━━━━━━━━━━━━━━━━━━\u001b[0m \u001b[32m98.6/98.6 KB\u001b[0m \u001b[31m6.6 MB/s\u001b[0m eta \u001b[36m0:00:00\u001b[0m\n",
            "\u001b[?25hCollecting ipyevents\n",
            "  Downloading ipyevents-2.0.1-py2.py3-none-any.whl (130 kB)\n",
            "\u001b[2K     \u001b[90m━━━━━━━━━━━━━━━━━━━━━━━━━━━━━━━━━━━━━━━\u001b[0m \u001b[32m130.5/130.5 KB\u001b[0m \u001b[31m9.7 MB/s\u001b[0m eta \u001b[36m0:00:00\u001b[0m\n",
            "\u001b[?25hCollecting python-box\n",
            "  Downloading python_box-6.1.0-cp38-cp38-manylinux_2_17_x86_64.manylinux2014_x86_64.whl (3.5 MB)\n",
            "\u001b[2K     \u001b[90m━━━━━━━━━━━━━━━━━━━━━━━━━━━━━━━━━━━━━━━━\u001b[0m \u001b[32m3.5/3.5 MB\u001b[0m \u001b[31m60.2 MB/s\u001b[0m eta \u001b[36m0:00:00\u001b[0m\n",
            "\u001b[?25hCollecting geeadd>=0.5.1\n",
            "  Downloading geeadd-0.5.6-py3-none-any.whl (30 kB)\n",
            "Requirement already satisfied: numpy in /usr/local/lib/python3.8/dist-packages (from geemap) (1.21.6)\n",
            "Collecting ee-extra>=0.0.10\n",
            "  Downloading ee_extra-0.0.15.tar.gz (224 kB)\n",
            "\u001b[2K     \u001b[90m━━━━━━━━━━━━━━━━━━━━━━━━━━━━━━━━━━━━━━\u001b[0m \u001b[32m224.7/224.7 KB\u001b[0m \u001b[31m10.9 MB/s\u001b[0m eta \u001b[36m0:00:00\u001b[0m\n",
            "\u001b[?25h  Preparing metadata (setup.py) ... \u001b[?25l\u001b[?25hdone\n",
            "Collecting scooby\n",
            "  Downloading scooby-0.7.0-py3-none-any.whl (16 kB)\n",
            "Requirement already satisfied: gdown in /usr/local/lib/python3.8/dist-packages (from geemap) (4.4.0)\n",
            "Requirement already satisfied: folium>=0.11.0 in /usr/local/lib/python3.8/dist-packages (from geemap) (0.12.1.post1)\n",
            "Requirement already satisfied: earthengine-api>=0.1.304 in /usr/local/lib/python3.8/dist-packages (from geemap) (0.1.335)\n",
            "Collecting xyzservices\n",
            "  Downloading xyzservices-2022.9.0-py3-none-any.whl (55 kB)\n",
            "\u001b[2K     \u001b[90m━━━━━━━━━━━━━━━━━━━━━━━━━━━━━━━━━━━━━━━\u001b[0m \u001b[32m55.9/55.9 KB\u001b[0m \u001b[31m643.3 kB/s\u001b[0m eta \u001b[36m0:00:00\u001b[0m\n",
            "\u001b[?25hCollecting ipyleaflet>=0.17.0\n",
            "  Downloading ipyleaflet-0.17.2-py3-none-any.whl (3.7 MB)\n",
            "\u001b[2K     \u001b[90m━━━━━━━━━━━━━━━━━━━━━━━━━━━━━━━━━━━━━━━━\u001b[0m \u001b[32m3.7/3.7 MB\u001b[0m \u001b[31m34.9 MB/s\u001b[0m eta \u001b[36m0:00:00\u001b[0m\n",
            "\u001b[?25hRequirement already satisfied: matplotlib in /usr/local/lib/python3.8/dist-packages (from geemap) (3.2.2)\n",
            "Collecting eerepr>=0.0.4\n",
            "  Downloading eerepr-0.0.4-py3-none-any.whl (9.7 kB)\n",
            "Requirement already satisfied: google-api-python-client>=1.12.1 in /usr/local/lib/python3.8/dist-packages (from earthengine-api>=0.1.304->geemap) (2.70.0)\n",
            "Requirement already satisfied: google-auth-httplib2>=0.0.3 in /usr/local/lib/python3.8/dist-packages (from earthengine-api>=0.1.304->geemap) (0.1.0)\n",
            "Requirement already satisfied: google-auth>=1.4.1 in /usr/local/lib/python3.8/dist-packages (from earthengine-api>=0.1.304->geemap) (2.16.0)\n",
            "Requirement already satisfied: httplib2<1dev,>=0.9.2 in /usr/local/lib/python3.8/dist-packages (from earthengine-api>=0.1.304->geemap) (0.17.4)\n",
            "Requirement already satisfied: six in /usr/local/lib/python3.8/dist-packages (from earthengine-api>=0.1.304->geemap) (1.15.0)\n",
            "Requirement already satisfied: google-cloud-storage in /usr/local/lib/python3.8/dist-packages (from earthengine-api>=0.1.304->geemap) (2.7.0)\n",
            "Requirement already satisfied: requests in /usr/local/lib/python3.8/dist-packages (from earthengine-api>=0.1.304->geemap) (2.25.1)\n",
            "Requirement already satisfied: future in /usr/local/lib/python3.8/dist-packages (from earthengine-api>=0.1.304->geemap) (0.16.0)\n",
            "Requirement already satisfied: jinja2>=2.9 in /usr/local/lib/python3.8/dist-packages (from folium>=0.11.0->geemap) (2.11.3)\n",
            "Requirement already satisfied: branca>=0.3.0 in /usr/local/lib/python3.8/dist-packages (from folium>=0.11.0->geemap) (0.6.0)\n",
            "Collecting beautifulsoup4>=4.9.0\n",
            "  Downloading beautifulsoup4-4.11.1-py3-none-any.whl (128 kB)\n",
            "\u001b[2K     \u001b[90m━━━━━━━━━━━━━━━━━━━━━━━━━━━━━━━━━━━━━━━\u001b[0m \u001b[32m128.2/128.2 KB\u001b[0m \u001b[31m7.4 MB/s\u001b[0m eta \u001b[36m0:00:00\u001b[0m\n",
            "\u001b[?25hCollecting logzero>=1.5.0\n",
            "  Downloading logzero-1.7.0-py2.py3-none-any.whl (16 kB)\n",
            "Collecting traittypes<3,>=0.2.1\n",
            "  Downloading traittypes-0.2.1-py2.py3-none-any.whl (8.6 kB)\n",
            "Requirement already satisfied: widgetsnbextension~=3.6.0 in /usr/local/lib/python3.8/dist-packages (from ipywidgets<8.0.0->geemap) (3.6.1)\n",
            "Requirement already satisfied: ipython-genutils~=0.2.0 in /usr/local/lib/python3.8/dist-packages (from ipywidgets<8.0.0->geemap) (0.2.0)\n",
            "Requirement already satisfied: ipykernel>=4.5.1 in /usr/local/lib/python3.8/dist-packages (from ipywidgets<8.0.0->geemap) (5.3.4)\n",
            "Requirement already satisfied: ipython>=4.0.0 in /usr/local/lib/python3.8/dist-packages (from ipywidgets<8.0.0->geemap) (7.9.0)\n",
            "Requirement already satisfied: traitlets>=4.3.1 in /usr/local/lib/python3.8/dist-packages (from ipywidgets<8.0.0->geemap) (5.7.1)\n",
            "Requirement already satisfied: jupyterlab-widgets>=1.0.0 in /usr/local/lib/python3.8/dist-packages (from ipywidgets<8.0.0->geemap) (3.0.5)\n",
            "Requirement already satisfied: plotly>=5.2.2 in /usr/local/lib/python3.8/dist-packages (from sankee>=0.1.0->geemap) (5.5.0)\n",
            "Collecting whitebox\n",
            "  Downloading whitebox-2.2.0-py2.py3-none-any.whl (79 kB)\n",
            "\u001b[2K     \u001b[90m━━━━━━━━━━━━━━━━━━━━━━━━━━━━━━━━━━━━━━━━\u001b[0m \u001b[32m79.9/79.9 KB\u001b[0m \u001b[31m8.3 MB/s\u001b[0m eta \u001b[36m0:00:00\u001b[0m\n",
            "\u001b[?25hRequirement already satisfied: pytz>=2017.3 in /usr/local/lib/python3.8/dist-packages (from pandas->geemap) (2022.7)\n",
            "Requirement already satisfied: python-dateutil>=2.7.3 in /usr/local/lib/python3.8/dist-packages (from pandas->geemap) (2.8.2)\n",
            "Requirement already satisfied: filelock in /usr/local/lib/python3.8/dist-packages (from gdown->geemap) (3.9.0)\n",
            "Requirement already satisfied: tqdm in /usr/local/lib/python3.8/dist-packages (from gdown->geemap) (4.64.1)\n",
            "Requirement already satisfied: click in /usr/local/lib/python3.8/dist-packages (from geocoder->geemap) (7.1.2)\n",
            "Collecting ratelim\n",
            "  Downloading ratelim-0.1.6-py2.py3-none-any.whl (4.0 kB)\n",
            "Requirement already satisfied: kiwisolver>=1.0.1 in /usr/local/lib/python3.8/dist-packages (from matplotlib->geemap) (1.4.4)\n",
            "Requirement already satisfied: pyparsing!=2.0.4,!=2.1.2,!=2.1.6,>=2.0.1 in /usr/local/lib/python3.8/dist-packages (from matplotlib->geemap) (3.0.9)\n",
            "Requirement already satisfied: cycler>=0.10 in /usr/local/lib/python3.8/dist-packages (from matplotlib->geemap) (0.11.0)\n",
            "Collecting soupsieve>1.2\n",
            "  Downloading soupsieve-2.3.2.post1-py3-none-any.whl (37 kB)\n",
            "Requirement already satisfied: google-api-core!=2.0.*,!=2.1.*,!=2.2.*,!=2.3.0,<3.0.0dev,>=1.31.5 in /usr/local/lib/python3.8/dist-packages (from google-api-python-client>=1.12.1->earthengine-api>=0.1.304->geemap) (2.11.0)\n",
            "Requirement already satisfied: uritemplate<5,>=3.0.1 in /usr/local/lib/python3.8/dist-packages (from google-api-python-client>=1.12.1->earthengine-api>=0.1.304->geemap) (4.1.1)\n",
            "Requirement already satisfied: cachetools<6.0,>=2.0.0 in /usr/local/lib/python3.8/dist-packages (from google-auth>=1.4.1->earthengine-api>=0.1.304->geemap) (5.2.1)\n",
            "Requirement already satisfied: pyasn1-modules>=0.2.1 in /usr/local/lib/python3.8/dist-packages (from google-auth>=1.4.1->earthengine-api>=0.1.304->geemap) (0.2.8)\n",
            "Requirement already satisfied: rsa<5,>=3.1.4 in /usr/local/lib/python3.8/dist-packages (from google-auth>=1.4.1->earthengine-api>=0.1.304->geemap) (4.9)\n",
            "Requirement already satisfied: jupyter-client in /usr/local/lib/python3.8/dist-packages (from ipykernel>=4.5.1->ipywidgets<8.0.0->geemap) (6.1.12)\n",
            "Requirement already satisfied: tornado>=4.2 in /usr/local/lib/python3.8/dist-packages (from ipykernel>=4.5.1->ipywidgets<8.0.0->geemap) (6.0.4)\n",
            "Requirement already satisfied: pexpect in /usr/local/lib/python3.8/dist-packages (from ipython>=4.0.0->ipywidgets<8.0.0->geemap) (4.8.0)\n",
            "Requirement already satisfied: pygments in /usr/local/lib/python3.8/dist-packages (from ipython>=4.0.0->ipywidgets<8.0.0->geemap) (2.6.1)\n",
            "Collecting jedi>=0.10\n",
            "  Downloading jedi-0.18.2-py2.py3-none-any.whl (1.6 MB)\n",
            "\u001b[2K     \u001b[90m━━━━━━━━━━━━━━━━━━━━━━━━━━━━━━━━━━━━━━━━\u001b[0m \u001b[32m1.6/1.6 MB\u001b[0m \u001b[31m60.9 MB/s\u001b[0m eta \u001b[36m0:00:00\u001b[0m\n",
            "\u001b[?25hRequirement already satisfied: decorator in /usr/local/lib/python3.8/dist-packages (from ipython>=4.0.0->ipywidgets<8.0.0->geemap) (4.4.2)\n",
            "Requirement already satisfied: backcall in /usr/local/lib/python3.8/dist-packages (from ipython>=4.0.0->ipywidgets<8.0.0->geemap) (0.2.0)\n",
            "Requirement already satisfied: setuptools>=18.5 in /usr/local/lib/python3.8/dist-packages (from ipython>=4.0.0->ipywidgets<8.0.0->geemap) (57.4.0)\n",
            "Requirement already satisfied: pickleshare in /usr/local/lib/python3.8/dist-packages (from ipython>=4.0.0->ipywidgets<8.0.0->geemap) (0.7.5)\n",
            "Requirement already satisfied: prompt-toolkit<2.1.0,>=2.0.0 in /usr/local/lib/python3.8/dist-packages (from ipython>=4.0.0->ipywidgets<8.0.0->geemap) (2.0.10)\n",
            "Requirement already satisfied: MarkupSafe>=0.23 in /usr/local/lib/python3.8/dist-packages (from jinja2>=2.9->folium>=0.11.0->geemap) (2.0.1)\n",
            "Requirement already satisfied: tenacity>=6.2.0 in /usr/local/lib/python3.8/dist-packages (from plotly>=5.2.2->sankee>=0.1.0->geemap) (8.1.0)\n",
            "Requirement already satisfied: certifi>=2017.4.17 in /usr/local/lib/python3.8/dist-packages (from requests->earthengine-api>=0.1.304->geemap) (2022.12.7)\n",
            "Requirement already satisfied: idna<3,>=2.5 in /usr/local/lib/python3.8/dist-packages (from requests->earthengine-api>=0.1.304->geemap) (2.10)\n",
            "Requirement already satisfied: chardet<5,>=3.0.2 in /usr/local/lib/python3.8/dist-packages (from requests->earthengine-api>=0.1.304->geemap) (4.0.0)\n",
            "Requirement already satisfied: urllib3<1.27,>=1.21.1 in /usr/local/lib/python3.8/dist-packages (from requests->earthengine-api>=0.1.304->geemap) (1.24.3)\n",
            "Requirement already satisfied: notebook>=4.4.1 in /usr/local/lib/python3.8/dist-packages (from widgetsnbextension~=3.6.0->ipywidgets<8.0.0->geemap) (5.7.16)\n",
            "Requirement already satisfied: google-cloud-core<3.0dev,>=2.3.0 in /usr/local/lib/python3.8/dist-packages (from google-cloud-storage->earthengine-api>=0.1.304->geemap) (2.3.2)\n",
            "Requirement already satisfied: google-resumable-media>=2.3.2 in /usr/local/lib/python3.8/dist-packages (from google-cloud-storage->earthengine-api>=0.1.304->geemap) (2.4.0)\n",
            "Requirement already satisfied: PySocks!=1.5.7,>=1.5.6 in /usr/local/lib/python3.8/dist-packages (from requests->earthengine-api>=0.1.304->geemap) (1.7.1)\n",
            "Requirement already satisfied: googleapis-common-protos<2.0dev,>=1.56.2 in /usr/local/lib/python3.8/dist-packages (from google-api-core!=2.0.*,!=2.1.*,!=2.2.*,!=2.3.0,<3.0.0dev,>=1.31.5->google-api-python-client>=1.12.1->earthengine-api>=0.1.304->geemap) (1.58.0)\n",
            "Requirement already satisfied: protobuf!=3.20.0,!=3.20.1,!=4.21.0,!=4.21.1,!=4.21.2,!=4.21.3,!=4.21.4,!=4.21.5,<5.0.0dev,>=3.19.5 in /usr/local/lib/python3.8/dist-packages (from google-api-core!=2.0.*,!=2.1.*,!=2.2.*,!=2.3.0,<3.0.0dev,>=1.31.5->google-api-python-client>=1.12.1->earthengine-api>=0.1.304->geemap) (3.19.6)\n",
            "Requirement already satisfied: google-crc32c<2.0dev,>=1.0 in /usr/local/lib/python3.8/dist-packages (from google-resumable-media>=2.3.2->google-cloud-storage->earthengine-api>=0.1.304->geemap) (1.5.0)\n",
            "Requirement already satisfied: parso<0.9.0,>=0.8.0 in /usr/local/lib/python3.8/dist-packages (from jedi>=0.10->ipython>=4.0.0->ipywidgets<8.0.0->geemap) (0.8.3)\n",
            "Requirement already satisfied: prometheus-client in /usr/local/lib/python3.8/dist-packages (from notebook>=4.4.1->widgetsnbextension~=3.6.0->ipywidgets<8.0.0->geemap) (0.15.0)\n",
            "Requirement already satisfied: terminado>=0.8.1 in /usr/local/lib/python3.8/dist-packages (from notebook>=4.4.1->widgetsnbextension~=3.6.0->ipywidgets<8.0.0->geemap) (0.13.3)\n",
            "Requirement already satisfied: nbformat in /usr/local/lib/python3.8/dist-packages (from notebook>=4.4.1->widgetsnbextension~=3.6.0->ipywidgets<8.0.0->geemap) (5.7.1)\n",
            "Requirement already satisfied: nbconvert<6.0 in /usr/local/lib/python3.8/dist-packages (from notebook>=4.4.1->widgetsnbextension~=3.6.0->ipywidgets<8.0.0->geemap) (5.6.1)\n",
            "Requirement already satisfied: pyzmq>=17 in /usr/local/lib/python3.8/dist-packages (from notebook>=4.4.1->widgetsnbextension~=3.6.0->ipywidgets<8.0.0->geemap) (23.2.1)\n",
            "Requirement already satisfied: jupyter-core>=4.4.0 in /usr/local/lib/python3.8/dist-packages (from notebook>=4.4.1->widgetsnbextension~=3.6.0->ipywidgets<8.0.0->geemap) (5.1.3)\n",
            "Requirement already satisfied: Send2Trash in /usr/local/lib/python3.8/dist-packages (from notebook>=4.4.1->widgetsnbextension~=3.6.0->ipywidgets<8.0.0->geemap) (1.8.0)\n",
            "Requirement already satisfied: wcwidth in /usr/local/lib/python3.8/dist-packages (from prompt-toolkit<2.1.0,>=2.0.0->ipython>=4.0.0->ipywidgets<8.0.0->geemap) (0.2.5)\n",
            "Requirement already satisfied: pyasn1<0.5.0,>=0.4.6 in /usr/local/lib/python3.8/dist-packages (from pyasn1-modules>=0.2.1->google-auth>=1.4.1->earthengine-api>=0.1.304->geemap) (0.4.8)\n",
            "Requirement already satisfied: ptyprocess>=0.5 in /usr/local/lib/python3.8/dist-packages (from pexpect->ipython>=4.0.0->ipywidgets<8.0.0->geemap) (0.7.0)\n",
            "Requirement already satisfied: platformdirs>=2.5 in /usr/local/lib/python3.8/dist-packages (from jupyter-core>=4.4.0->notebook>=4.4.1->widgetsnbextension~=3.6.0->ipywidgets<8.0.0->geemap) (2.6.2)\n",
            "Requirement already satisfied: pandocfilters>=1.4.1 in /usr/local/lib/python3.8/dist-packages (from nbconvert<6.0->notebook>=4.4.1->widgetsnbextension~=3.6.0->ipywidgets<8.0.0->geemap) (1.5.0)\n",
            "Requirement already satisfied: testpath in /usr/local/lib/python3.8/dist-packages (from nbconvert<6.0->notebook>=4.4.1->widgetsnbextension~=3.6.0->ipywidgets<8.0.0->geemap) (0.6.0)\n",
            "Requirement already satisfied: bleach in /usr/local/lib/python3.8/dist-packages (from nbconvert<6.0->notebook>=4.4.1->widgetsnbextension~=3.6.0->ipywidgets<8.0.0->geemap) (5.0.1)\n",
            "Requirement already satisfied: entrypoints>=0.2.2 in /usr/local/lib/python3.8/dist-packages (from nbconvert<6.0->notebook>=4.4.1->widgetsnbextension~=3.6.0->ipywidgets<8.0.0->geemap) (0.4)\n",
            "Requirement already satisfied: defusedxml in /usr/local/lib/python3.8/dist-packages (from nbconvert<6.0->notebook>=4.4.1->widgetsnbextension~=3.6.0->ipywidgets<8.0.0->geemap) (0.7.1)\n",
            "Requirement already satisfied: mistune<2,>=0.8.1 in /usr/local/lib/python3.8/dist-packages (from nbconvert<6.0->notebook>=4.4.1->widgetsnbextension~=3.6.0->ipywidgets<8.0.0->geemap) (0.8.4)\n",
            "Requirement already satisfied: jsonschema>=2.6 in /usr/local/lib/python3.8/dist-packages (from nbformat->notebook>=4.4.1->widgetsnbextension~=3.6.0->ipywidgets<8.0.0->geemap) (4.3.3)\n",
            "Requirement already satisfied: fastjsonschema in /usr/local/lib/python3.8/dist-packages (from nbformat->notebook>=4.4.1->widgetsnbextension~=3.6.0->ipywidgets<8.0.0->geemap) (2.16.2)\n",
            "Requirement already satisfied: attrs>=17.4.0 in /usr/local/lib/python3.8/dist-packages (from jsonschema>=2.6->nbformat->notebook>=4.4.1->widgetsnbextension~=3.6.0->ipywidgets<8.0.0->geemap) (22.2.0)\n",
            "Requirement already satisfied: pyrsistent!=0.17.0,!=0.17.1,!=0.17.2,>=0.14.0 in /usr/local/lib/python3.8/dist-packages (from jsonschema>=2.6->nbformat->notebook>=4.4.1->widgetsnbextension~=3.6.0->ipywidgets<8.0.0->geemap) (0.19.3)\n",
            "Requirement already satisfied: importlib-resources>=1.4.0 in /usr/local/lib/python3.8/dist-packages (from jsonschema>=2.6->nbformat->notebook>=4.4.1->widgetsnbextension~=3.6.0->ipywidgets<8.0.0->geemap) (5.10.2)\n",
            "Requirement already satisfied: webencodings in /usr/local/lib/python3.8/dist-packages (from bleach->nbconvert<6.0->notebook>=4.4.1->widgetsnbextension~=3.6.0->ipywidgets<8.0.0->geemap) (0.5.1)\n",
            "Requirement already satisfied: zipp>=3.1.0 in /usr/local/lib/python3.8/dist-packages (from importlib-resources>=1.4.0->jsonschema>=2.6->nbformat->notebook>=4.4.1->widgetsnbextension~=3.6.0->ipywidgets<8.0.0->geemap) (3.11.0)\n",
            "Building wheels for collected packages: ee-extra, sankee, pycrs, pyperclip\n",
            "  Building wheel for ee-extra (setup.py) ... \u001b[?25l\u001b[?25hdone\n",
            "  Created wheel for ee-extra: filename=ee_extra-0.0.15-py3-none-any.whl size=236772 sha256=b996b635f293195f70406ec41c3eae846d6cb7330484a67e88920965311fb904\n",
            "  Stored in directory: /root/.cache/pip/wheels/ad/62/c2/83b116851b529a65410d8d6f771cfbacb4636b5287d55e1c21\n",
            "  Building wheel for sankee (setup.py) ... \u001b[?25l\u001b[?25hdone\n",
            "  Created wheel for sankee: filename=sankee-0.2.1-py3-none-any.whl size=29338 sha256=861fab542a29710ef78af69cef8311e40c5a688149561b97622ca423be80f4b5\n",
            "  Stored in directory: /root/.cache/pip/wheels/94/c1/84/f42275344bce6ecb3b4f3fe74609f63143d5fe2150a908b7ab\n",
            "  Building wheel for pycrs (setup.py) ... \u001b[?25l\u001b[?25hdone\n",
            "  Created wheel for pycrs: filename=PyCRS-1.0.2-py3-none-any.whl size=32703 sha256=cbaf33ef2ed3514f181e7cb6cf86faee54213396c66edf198cb8d6cdef56ac8e\n",
            "  Stored in directory: /root/.cache/pip/wheels/c1/e9/f3/19ecf82bebc5cdaba5c2a83f673f7b9b09c26fbc9b57534a2e\n",
            "  Building wheel for pyperclip (setup.py) ... \u001b[?25l\u001b[?25hdone\n",
            "  Created wheel for pyperclip: filename=pyperclip-1.8.2-py3-none-any.whl size=11136 sha256=5e2544e9c5462f34064999b9433d28d279b8bb589c537ff599e4d30a8dbfac3f\n",
            "  Stored in directory: /root/.cache/pip/wheels/7f/1a/65/84ff8c386bec21fca6d220ea1f5498a0367883a78dd5ba6122\n",
            "Successfully built ee-extra sankee pycrs pyperclip\n",
            "Installing collected packages: pyperclip, pycrs, logzero, geojson, colour, xyzservices, whitebox, traittypes, soupsieve, scooby, ratelim, python-box, pyshp, jedi, ffmpeg-python, geocoder, beautifulsoup4, geeadd, eerepr, ee-extra, sankee, ipytree, ipyleaflet, ipyfilechooser, ipyevents, bqplot, whiteboxgui, geemap\n",
            "  Attempting uninstall: beautifulsoup4\n",
            "    Found existing installation: beautifulsoup4 4.6.3\n",
            "    Uninstalling beautifulsoup4-4.6.3:\n",
            "      Successfully uninstalled beautifulsoup4-4.6.3\n",
            "Successfully installed beautifulsoup4-4.11.1 bqplot-0.12.36 colour-0.1.5 ee-extra-0.0.15 eerepr-0.0.4 ffmpeg-python-0.2.0 geeadd-0.5.6 geemap-0.19.6 geocoder-1.38.1 geojson-2.5.0 ipyevents-2.0.1 ipyfilechooser-0.6.0 ipyleaflet-0.17.2 ipytree-0.2.2 jedi-0.18.2 logzero-1.7.0 pycrs-1.0.2 pyperclip-1.8.2 pyshp-2.3.1 python-box-6.1.0 ratelim-0.1.6 sankee-0.2.1 scooby-0.7.0 soupsieve-2.3.2.post1 traittypes-0.2.1 whitebox-2.2.0 whiteboxgui-2.2.0 xyzservices-2022.9.0\n"
          ]
        }
      ],
      "source": [
        "!pip install geemap"
      ]
    },
    {
      "cell_type": "code",
      "source": [
        "pip install rasterio"
      ],
      "metadata": {
        "colab": {
          "base_uri": "https://localhost:8080/"
        },
        "id": "MuplO5lUXXtD",
        "outputId": "00bb2084-2620-441c-e57a-beddd0eaba23"
      },
      "execution_count": 37,
      "outputs": [
        {
          "output_type": "stream",
          "name": "stdout",
          "text": [
            "Looking in indexes: https://pypi.org/simple, https://us-python.pkg.dev/colab-wheels/public/simple/\n",
            "Collecting rasterio\n",
            "  Downloading rasterio-1.3.4-cp38-cp38-manylinux_2_17_x86_64.manylinux2014_x86_64.whl (20.9 MB)\n",
            "\u001b[2K     \u001b[90m━━━━━━━━━━━━━━━━━━━━━━━━━━━━━━━━━━━━━━━━\u001b[0m \u001b[32m20.9/20.9 MB\u001b[0m \u001b[31m43.4 MB/s\u001b[0m eta \u001b[36m0:00:00\u001b[0m\n",
            "\u001b[?25hRequirement already satisfied: setuptools in /usr/local/lib/python3.8/dist-packages (from rasterio) (57.4.0)\n",
            "Collecting click-plugins\n",
            "  Downloading click_plugins-1.1.1-py2.py3-none-any.whl (7.5 kB)\n",
            "Requirement already satisfied: click>=4.0 in /usr/local/lib/python3.8/dist-packages (from rasterio) (7.1.2)\n",
            "Collecting snuggs>=1.4.1\n",
            "  Downloading snuggs-1.4.7-py3-none-any.whl (5.4 kB)\n",
            "Collecting cligj>=0.5\n",
            "  Downloading cligj-0.7.2-py3-none-any.whl (7.1 kB)\n",
            "Collecting affine\n",
            "  Downloading affine-2.4.0-py3-none-any.whl (15 kB)\n",
            "Requirement already satisfied: certifi in /usr/local/lib/python3.8/dist-packages (from rasterio) (2022.12.7)\n",
            "Requirement already satisfied: numpy>=1.18 in /usr/local/lib/python3.8/dist-packages (from rasterio) (1.21.6)\n",
            "Requirement already satisfied: attrs in /usr/local/lib/python3.8/dist-packages (from rasterio) (22.2.0)\n",
            "Requirement already satisfied: pyparsing>=2.1.6 in /usr/local/lib/python3.8/dist-packages (from snuggs>=1.4.1->rasterio) (3.0.9)\n",
            "Installing collected packages: snuggs, cligj, click-plugins, affine, rasterio\n",
            "Successfully installed affine-2.4.0 click-plugins-1.1.1 cligj-0.7.2 rasterio-1.3.4 snuggs-1.4.7\n"
          ]
        }
      ]
    },
    {
      "cell_type": "code",
      "source": [
        " pip install GDAL"
      ],
      "metadata": {
        "colab": {
          "base_uri": "https://localhost:8080/"
        },
        "id": "ka0ufobvY4tY",
        "outputId": "b12a67c4-97b6-421e-c27b-4b06b5238a6c"
      },
      "execution_count": 51,
      "outputs": [
        {
          "output_type": "stream",
          "name": "stdout",
          "text": [
            "Looking in indexes: https://pypi.org/simple, https://us-python.pkg.dev/colab-wheels/public/simple/\n",
            "Requirement already satisfied: GDAL in /usr/lib/python3/dist-packages (3.0.4)\n"
          ]
        }
      ]
    },
    {
      "cell_type": "code",
      "source": [
        "# Installs geemap package\n",
        "import google.colab\n",
        "import geemap.foliumap as geemap\n",
        "# Authenticates and initializes Earth Engine\n",
        "import ee\n",
        "ee.Authenticate()\n",
        "ee.Initialize()"
      ],
      "metadata": {
        "colab": {
          "base_uri": "https://localhost:8080/"
        },
        "id": "TWCWpay4HviT",
        "outputId": "6d9e48cc-e767-4ebe-9362-28a456a5cbcd"
      },
      "execution_count": 4,
      "outputs": [
        {
          "output_type": "stream",
          "name": "stdout",
          "text": [
            "To authorize access needed by Earth Engine, open the following URL in a web browser and follow the instructions. If the web browser does not start automatically, please manually browse the URL below.\n",
            "\n",
            "    https://code.earthengine.google.com/client-auth?scopes=https%3A//www.googleapis.com/auth/earthengine%20https%3A//www.googleapis.com/auth/devstorage.full_control&request_id=Wyudy4JjY9iKQTnNn5M0wR8jQXCNGH1dBuJLpRtbDGg&tc=GE8zzcC35vKw7wVtsQdQXXkNc6dPcrI9m6kwXsPSxCg&cc=y0OJ_XB1ddoH9pjTCDtmvGo2MOmztXlYXJwlBhYDE_8\n",
            "\n",
            "The authorization workflow will generate a code, which you should paste in the box below.\n",
            "Enter verification code: 4/1AWtgzh41pOrnUlIJyioPNT88Ldn0l7m1YB1m_BDHguGdFPLXRJOA8MULgJg\n",
            "\n",
            "Successfully saved authorization token.\n"
          ]
        }
      ]
    },
    {
      "cell_type": "code",
      "source": [
        "import numpy as np\n",
        "import matplotlib.pyplot as plt\n",
        "from osgeo import gdal"
      ],
      "metadata": {
        "id": "UglSsmZXNceI"
      },
      "execution_count": 15,
      "outputs": []
    },
    {
      "cell_type": "code",
      "source": [
        "import numpy as np\n",
        "import rasterio\n",
        "import rasterio as rs\n",
        "import rasterio\n",
        "from rasterio.plot import show\n",
        "import gdal\n",
        "import  gdalconst"
      ],
      "metadata": {
        "id": "8P_Z49KvW6X_"
      },
      "execution_count": 53,
      "outputs": []
    },
    {
      "cell_type": "code",
      "source": [
        "from osgeo import gdal\n",
        "import matplotlib.pyplot as plt"
      ],
      "metadata": {
        "id": "U2skfIZCaYko"
      },
      "execution_count": 62,
      "outputs": []
    },
    {
      "cell_type": "code",
      "source": [
        "from osgeo import gdal\n",
        "from osgeo import ogr\n",
        "from osgeo import osr\n",
        "from osgeo import gdal_array\n",
        "from osgeo import gdalconst"
      ],
      "metadata": {
        "id": "1I4qhtC4gMXM"
      },
      "execution_count": 83,
      "outputs": []
    },
    {
      "cell_type": "code",
      "source": [
        "import gdal\n",
        "import ogr\n",
        "import osr\n",
        "import gdalnumeric\n",
        "import gdalconst"
      ],
      "metadata": {
        "id": "19rn69vugTY5"
      },
      "execution_count": 84,
      "outputs": []
    },
    {
      "cell_type": "markdown",
      "source": [
        "# Import the data from Google drive"
      ],
      "metadata": {
        "id": "xSNlBSIa85eD"
      }
    },
    {
      "cell_type": "code",
      "source": [
        "from google.colab import drive\n",
        "drive.mount('/content/gdrive/', force_remount=True)"
      ],
      "metadata": {
        "colab": {
          "base_uri": "https://localhost:8080/"
        },
        "id": "4Y_vruu7KElM",
        "outputId": "7394f4b1-0218-42cb-d5c5-36e17a32e267"
      },
      "execution_count": 6,
      "outputs": [
        {
          "output_type": "stream",
          "name": "stdout",
          "text": [
            "Mounted at /content/gdrive/\n"
          ]
        }
      ]
    },
    {
      "cell_type": "code",
      "source": [
        "%cd gdrive/MyDrive/Rabi_bihar_s1monthly_S2"
      ],
      "metadata": {
        "colab": {
          "base_uri": "https://localhost:8080/"
        },
        "id": "jzDFwlZQLTAy",
        "outputId": "8862ab7e-6f37-4b4f-a7b4-34caf332d1ca"
      },
      "execution_count": 7,
      "outputs": [
        {
          "output_type": "stream",
          "name": "stdout",
          "text": [
            "/content/gdrive/MyDrive/Rabi_bihar_s1monthly_S2\n"
          ]
        }
      ]
    },
    {
      "cell_type": "code",
      "source": [
        "#Import Data from Google Earth Engine Asset\n",
        "composites = ee.ImageCollection(\"gdrive/MyDrive/Rabi_bihar_s1monthly_S2/input2021_S2_S1_bihar_rabi-0000012800-0000025600.tif\");\n",
        "#composites "
      ],
      "metadata": {
        "colab": {
          "base_uri": "https://localhost:8080/",
          "height": 89
        },
        "id": "IsWZMXHZL5ZY",
        "outputId": "046d710d-af3e-4f55-c7e0-3a27828a868e"
      },
      "execution_count": 10,
      "outputs": [
        {
          "output_type": "stream",
          "name": "stderr",
          "text": [
            "/usr/local/lib/python3.8/dist-packages/eerepr/repr.py:57: UserWarning: Getting info failed with: 'ImageCollection.load: ImageCollection asset 'gdrive/MyDrive/Rabi_bihar_s1monthly_S2/input2021_S2_S1_bihar_rabi-0000012800-0000025600.tif' not found.'. Falling back to string repr.\n",
            "  warn(f\"Getting info failed with: '{e}'. Falling back to string repr.\")\n"
          ]
        },
        {
          "output_type": "execute_result",
          "data": {
            "text/plain": [
              "<ee.imagecollection.ImageCollection at 0x7ff779cbf6a0>"
            ],
            "text/html": [
              "<pre>&lt;ee.imagecollection.ImageCollection object at 0x7ff779cbf6a0&gt;</pre>"
            ]
          },
          "metadata": {},
          "execution_count": 10
        }
      ]
    },
    {
      "cell_type": "code",
      "source": [
        "from google.colab import files\n",
        "uploaded = files.upload()"
      ],
      "metadata": {
        "id": "v6_pi0KTgsyR"
      },
      "execution_count": null,
      "outputs": []
    },
    {
      "cell_type": "markdown",
      "source": [
        "# Import data from Google Earth Engine Asset  and assign value for primitives"
      ],
      "metadata": {
        "id": "XzkKTj8WOUAc"
      }
    },
    {
      "cell_type": "markdown",
      "source": [
        "#Import Data from Google Earth Engine Asset"
      ],
      "metadata": {
        "id": "mrZde0PLseUA"
      }
    },
    {
      "cell_type": "code",
      "source": [
        "composites = ee.Image(\"projects/ee-bhavani/assets/input2021_22_S2_S1_bihar_rabi\")\n",
        "Map.addLayer(composites)\n",
        "Map"
      ],
      "metadata": {
        "id": "6WEPMwTjsZ8D"
      },
      "execution_count": null,
      "outputs": []
    },
    {
      "cell_type": "markdown",
      "source": [
        "# Dispaly the Satellite Image"
      ],
      "metadata": {
        "id": "Epnk6IYn-BjE"
      }
    },
    {
      "cell_type": "code",
      "source": [
        "import folium\n",
        "def add_ee_layer(self, ee_image_object, vis_params, name):\n",
        "  map_id_dict = ee.Image(ee_image_object).getMapId(vis_params)\n",
        "  folium.raster_layers.TileLayer(\n",
        "      tiles=map_id_dict['tile_fetcher'].url_format,\n",
        "      attr='Map Data &copy; <a href=\"https://earthengine.google.com/\">Google Earth Engine</a>',\n",
        "      name=name,\n",
        "      overlay=True,\n",
        "      control=True\n",
        "  ).add_to(self)\n",
        "\n",
        "folium.Map.add_ee_layer = add_ee_layer"
      ],
      "metadata": {
        "id": "xZ9zGAmS7mSl"
      },
      "execution_count": 96,
      "outputs": []
    },
    {
      "cell_type": "code",
      "source": [
        "# Add the image layer to the map and display it.\n",
        "map_s2 = folium.Map(location=[85.76729283775217, 25.60018046576914], zoom_start=11)\n",
        "\n",
        "map_s2.add_ee_layer(\n",
        "    composites, {'min': -10, 'max': -30}, 'first')\n",
        "display(map_s2)"
      ],
      "metadata": {
        "id": "kih99Acd7JtO"
      },
      "execution_count": null,
      "outputs": []
    },
    {
      "cell_type": "markdown",
      "source": [
        "## Load the Training data from GEE asset"
      ],
      "metadata": {
        "id": "1r_eTzdB9M2b"
      }
    },
    {
      "cell_type": "code",
      "source": [
        "trainingdata = ee.FeatureCollection(\"projects/ee-bhavani/assets/training_Rabi_25apr_2021_22\");"
      ],
      "metadata": {
        "id": "PEYGo_ByQieO"
      },
      "execution_count": 19,
      "outputs": []
    },
    {
      "cell_type": "code",
      "source": [
        "maize=trainingdata.filter(ee.Filter.eq('Cato',3)).remap([3],[1],'Cato');\n",
        "non_maize=trainingdata.filter(ee.Filter.neq('Cato',3)).remap([1,2,4,5,6,7,8],[0,0,0,0,0,0,0],'Cato');\n",
        "Maize_Nm=ee.FeatureCollection(maize).merge(non_maize)\n",
        "g = ee.FeatureCollection(\"users/bhavani/CIMMYT/2020/Bihar/Shp/BiharDist\");"
      ],
      "metadata": {
        "id": "J1LgyqUkQ5Q8"
      },
      "execution_count": 24,
      "outputs": []
    },
    {
      "cell_type": "code",
      "source": [
        "Map = geemap.Map(center=[12,105], zoom= 8)\n",
        "Map.addLayer(maize,{},\"maize\");\n",
        "Map.addLayer(non_maize.draw(\"red\"),{},\"no maize\");\n",
        "Map.addLayer(g)\n",
        "Map\n"
      ],
      "metadata": {
        "id": "DIRZgk5gRa7J"
      },
      "execution_count": null,
      "outputs": []
    },
    {
      "cell_type": "markdown",
      "source": [
        "### Random forest Classfication Maize and Non-Maize"
      ],
      "metadata": {
        "id": "IWwdl3Ew-_2I"
      }
    },
    {
      "cell_type": "code",
      "source": [
        "sample = Maize_Nm.randomColumn();\n",
        "split = 0.7;  # Roughly 70% training, 30% testing.\n",
        " "
      ],
      "metadata": {
        "id": "ORzBwlGhAGPZ"
      },
      "execution_count": 101,
      "outputs": []
    },
    {
      "cell_type": "code",
      "source": [
        "trainingPts = sample.filter(ee.Filter.lt('random', split));\n",
        "#print(trainingPts.size());\n",
        "\n",
        "validationPts = sample.filter(ee.Filter.gte('random', split));"
      ],
      "metadata": {
        "id": "sMBENNjRBBwZ"
      },
      "execution_count": 104,
      "outputs": []
    },
    {
      "cell_type": "code",
      "source": [
        "training = composites.sampleRegions( collection=trainingPts,properties= ['Cato'],\n",
        "                                     scale= 20,\n",
        "                                     tileScale= 16\n",
        "                                     );"
      ],
      "metadata": {
        "id": "9cOn-5rvB76u"
      },
      "execution_count": 112,
      "outputs": []
    },
    {
      "cell_type": "code",
      "source": [
        "#Run the Random Forest model and show the map\n",
        "bandNames = composites.bandNames();\n",
        "classifier = ee.Classifier.smileRandomForest(10).setOutputMode('PROBABILITY').train(training,\"Cato\",bandNames);\n",
        "classification = composites.classify(classifier).multiply(100).clip(g)"
      ],
      "metadata": {
        "id": "t2xWhI0dBJC8"
      },
      "execution_count": 115,
      "outputs": []
    },
    {
      "cell_type": "code",
      "source": [
        "Map = geemap.Map(center=[85,25], zoom= 8)\n",
        "Map.addLayer(classification,{'min':20,'max':90,'palette':[\"white\",\"green\",\"red\"]},\"Maize primitive\")\n",
        "Map"
      ],
      "metadata": {
        "colab": {
          "base_uri": "https://localhost:8080/",
          "height": 621
        },
        "id": "w-uoF3QgBXqb",
        "outputId": "ed4205d3-128d-4da6-beaa-9d104e89b73d"
      },
      "execution_count": 117,
      "outputs": [
        {
          "output_type": "execute_result",
          "data": {
            "text/plain": [
              "<geemap.foliumap.Map at 0x7ff760694c10>"
            ],
            "text/html": [
              "<iframe srcdoc=\"&lt;!DOCTYPE html&gt;\n",
              "&lt;html&gt;\n",
              "&lt;head&gt;\n",
              "    \n",
              "    &lt;meta http-equiv=&quot;content-type&quot; content=&quot;text/html; charset=UTF-8&quot; /&gt;\n",
              "    \n",
              "        &lt;script&gt;\n",
              "            L_NO_TOUCH = false;\n",
              "            L_DISABLE_3D = false;\n",
              "        &lt;/script&gt;\n",
              "    \n",
              "    &lt;style&gt;html, body {width: 100%;height: 100%;margin: 0;padding: 0;}&lt;/style&gt;\n",
              "    &lt;style&gt;#map {position:absolute;top:0;bottom:0;right:0;left:0;}&lt;/style&gt;\n",
              "    &lt;script src=&quot;https://cdn.jsdelivr.net/npm/leaflet@1.6.0/dist/leaflet.js&quot;&gt;&lt;/script&gt;\n",
              "    &lt;script src=&quot;https://code.jquery.com/jquery-1.12.4.min.js&quot;&gt;&lt;/script&gt;\n",
              "    &lt;script src=&quot;https://maxcdn.bootstrapcdn.com/bootstrap/3.2.0/js/bootstrap.min.js&quot;&gt;&lt;/script&gt;\n",
              "    &lt;script src=&quot;https://cdnjs.cloudflare.com/ajax/libs/Leaflet.awesome-markers/2.0.2/leaflet.awesome-markers.js&quot;&gt;&lt;/script&gt;\n",
              "    &lt;link rel=&quot;stylesheet&quot; href=&quot;https://cdn.jsdelivr.net/npm/leaflet@1.6.0/dist/leaflet.css&quot;/&gt;\n",
              "    &lt;link rel=&quot;stylesheet&quot; href=&quot;https://maxcdn.bootstrapcdn.com/bootstrap/3.2.0/css/bootstrap.min.css&quot;/&gt;\n",
              "    &lt;link rel=&quot;stylesheet&quot; href=&quot;https://maxcdn.bootstrapcdn.com/bootstrap/3.2.0/css/bootstrap-theme.min.css&quot;/&gt;\n",
              "    &lt;link rel=&quot;stylesheet&quot; href=&quot;https://maxcdn.bootstrapcdn.com/font-awesome/4.6.3/css/font-awesome.min.css&quot;/&gt;\n",
              "    &lt;link rel=&quot;stylesheet&quot; href=&quot;https://cdnjs.cloudflare.com/ajax/libs/Leaflet.awesome-markers/2.0.2/leaflet.awesome-markers.css&quot;/&gt;\n",
              "    &lt;link rel=&quot;stylesheet&quot; href=&quot;https://cdn.jsdelivr.net/gh/python-visualization/folium/folium/templates/leaflet.awesome.rotate.min.css&quot;/&gt;\n",
              "    \n",
              "            &lt;meta name=&quot;viewport&quot; content=&quot;width=device-width,\n",
              "                initial-scale=1.0, maximum-scale=1.0, user-scalable=no&quot; /&gt;\n",
              "            &lt;style&gt;\n",
              "                #map_5d8331a4739ef5632fbf235d291d669a {\n",
              "                    position: relative;\n",
              "                    width: 100.0%;\n",
              "                    height: 100.0%;\n",
              "                    left: 0.0%;\n",
              "                    top: 0.0%;\n",
              "                }\n",
              "            &lt;/style&gt;\n",
              "        \n",
              "    &lt;script src=&quot;https://cdnjs.cloudflare.com/ajax/libs/leaflet.fullscreen/1.4.2/Control.FullScreen.min.js&quot;&gt;&lt;/script&gt;\n",
              "    &lt;link rel=&quot;stylesheet&quot; href=&quot;https://cdnjs.cloudflare.com/ajax/libs/leaflet.fullscreen/1.4.2/Control.FullScreen.min.css&quot;/&gt;\n",
              "    &lt;script src=&quot;https://cdnjs.cloudflare.com/ajax/libs/leaflet.draw/1.0.2/leaflet.draw.js&quot;&gt;&lt;/script&gt;\n",
              "    &lt;link rel=&quot;stylesheet&quot; href=&quot;https://cdnjs.cloudflare.com/ajax/libs/leaflet.draw/1.0.2/leaflet.draw.css&quot;/&gt;\n",
              "    &lt;script src=&quot;https://unpkg.com/leaflet-control-geocoder/dist/Control.Geocoder.js&quot;&gt;&lt;/script&gt;\n",
              "    &lt;link rel=&quot;stylesheet&quot; href=&quot;https://unpkg.com/leaflet-control-geocoder/dist/Control.Geocoder.css&quot;/&gt;\n",
              "&lt;/head&gt;\n",
              "&lt;body&gt;\n",
              "    \n",
              "    \n",
              "            &lt;div class=&quot;folium-map&quot; id=&quot;map_5d8331a4739ef5632fbf235d291d669a&quot; &gt;&lt;/div&gt;\n",
              "        \n",
              "&lt;/body&gt;\n",
              "&lt;script&gt;\n",
              "    \n",
              "    \n",
              "            var map_5d8331a4739ef5632fbf235d291d669a = L.map(\n",
              "                &quot;map_5d8331a4739ef5632fbf235d291d669a&quot;,\n",
              "                {\n",
              "                    center: [12.0, 105.0],\n",
              "                    crs: L.CRS.EPSG3857,\n",
              "                    zoom: 8,\n",
              "                    zoomControl: true,\n",
              "                    preferCanvas: false,\n",
              "                    eeInitialize: true,\n",
              "                    addGoogleMap: true,\n",
              "                    pluginLatlngpopup: false,\n",
              "                    pluginFullscreen: true,\n",
              "                    pluginDraw: true,\n",
              "                    DrawExport: false,\n",
              "                    pluginMinimap: false,\n",
              "                    pluginLayercontrol: false,\n",
              "                    locateControl: false,\n",
              "                    searchControl: true,\n",
              "                }\n",
              "            );\n",
              "\n",
              "            \n",
              "\n",
              "        \n",
              "    \n",
              "            var tile_layer_4e8cecebc239f238616e93f85db18b93 = L.tileLayer(\n",
              "                &quot;https://{s}.tile.openstreetmap.org/{z}/{x}/{y}.png&quot;,\n",
              "                {&quot;attribution&quot;: &quot;Data by \\u0026copy; \\u003ca href=\\&quot;http://openstreetmap.org\\&quot;\\u003eOpenStreetMap\\u003c/a\\u003e, under \\u003ca href=\\&quot;http://www.openstreetmap.org/copyright\\&quot;\\u003eODbL\\u003c/a\\u003e.&quot;, &quot;detectRetina&quot;: false, &quot;maxNativeZoom&quot;: 30, &quot;maxZoom&quot;: 30, &quot;minZoom&quot;: 0, &quot;noWrap&quot;: false, &quot;opacity&quot;: 1, &quot;subdomains&quot;: &quot;abc&quot;, &quot;tms&quot;: false}\n",
              "            ).addTo(map_5d8331a4739ef5632fbf235d291d669a);\n",
              "        \n",
              "    \n",
              "            var tile_layer_670437b53752a96ded04f658e3dcbaf2 = L.tileLayer(\n",
              "                &quot;https://mt1.google.com/vt/lyrs=m\\u0026x={x}\\u0026y={y}\\u0026z={z}&quot;,\n",
              "                {&quot;attribution&quot;: &quot;Google&quot;, &quot;detectRetina&quot;: false, &quot;maxNativeZoom&quot;: 22, &quot;maxZoom&quot;: 22, &quot;minZoom&quot;: 0, &quot;noWrap&quot;: false, &quot;opacity&quot;: 1, &quot;subdomains&quot;: &quot;abc&quot;, &quot;tms&quot;: false}\n",
              "            ).addTo(map_5d8331a4739ef5632fbf235d291d669a);\n",
              "        \n",
              "    \n",
              "            L.control.fullscreen(\n",
              "                {&quot;forceSeparateButton&quot;: false, &quot;position&quot;: &quot;topleft&quot;, &quot;title&quot;: &quot;Full Screen&quot;, &quot;titleCancel&quot;: &quot;Exit Full Screen&quot;}\n",
              "            ).addTo(map_5d8331a4739ef5632fbf235d291d669a);\n",
              "        \n",
              "    \n",
              "            var options = {\n",
              "              position: &quot;topleft&quot;,\n",
              "              draw: {},\n",
              "              edit: {},\n",
              "            }\n",
              "            // FeatureGroup is to store editable layers.\n",
              "            var drawnItems = new L.featureGroup().addTo(\n",
              "                map_5d8331a4739ef5632fbf235d291d669a\n",
              "            );\n",
              "            options.edit.featureGroup = drawnItems;\n",
              "            var draw_control_60e6c4c5488806a117ab624e9640b35c = new L.Control.Draw(\n",
              "                options\n",
              "            ).addTo( map_5d8331a4739ef5632fbf235d291d669a );\n",
              "            map_5d8331a4739ef5632fbf235d291d669a.on(L.Draw.Event.CREATED, function(e) {\n",
              "                var layer = e.layer,\n",
              "                    type = e.layerType;\n",
              "                var coords = JSON.stringify(layer.toGeoJSON());\n",
              "                layer.on(&#x27;click&#x27;, function() {\n",
              "                    alert(coords);\n",
              "                    console.log(coords);\n",
              "                });\n",
              "                drawnItems.addLayer(layer);\n",
              "             });\n",
              "            map_5d8331a4739ef5632fbf235d291d669a.on(&#x27;draw:created&#x27;, function(e) {\n",
              "                drawnItems.addLayer(e.layer);\n",
              "            });\n",
              "            \n",
              "        \n",
              "    \n",
              "            L.Control.geocoder(\n",
              "                {&quot;collapsed&quot;: true, &quot;defaultMarkGeocode&quot;: true, &quot;position&quot;: &quot;topleft&quot;}\n",
              "            ).on(&#x27;markgeocode&#x27;, function(e) {\n",
              "                map_5d8331a4739ef5632fbf235d291d669a.setView(e.geocode.center, 11);\n",
              "            }).addTo(map_5d8331a4739ef5632fbf235d291d669a);\n",
              "\n",
              "        \n",
              "    \n",
              "            map_5d8331a4739ef5632fbf235d291d669a.fitBounds(\n",
              "                [[12, 105], [12, 105]],\n",
              "                {&quot;maxZoom&quot;: 8}\n",
              "            );\n",
              "        \n",
              "    \n",
              "            var tile_layer_bd879e58c9957b5fa19d0d7f914a535c = L.tileLayer(\n",
              "                &quot;https://earthengine.googleapis.com/v1alpha/projects/earthengine-legacy/maps/6770e345858a0ab41c58ea5c876e2668-8c4dd8fb965867c1c7777b3fdecde6c4/tiles/{z}/{x}/{y}&quot;,\n",
              "                {&quot;attribution&quot;: &quot;Google Earth Engine&quot;, &quot;detectRetina&quot;: false, &quot;maxNativeZoom&quot;: 24, &quot;maxZoom&quot;: 24, &quot;minZoom&quot;: 0, &quot;noWrap&quot;: false, &quot;opacity&quot;: 1.0, &quot;subdomains&quot;: &quot;abc&quot;, &quot;tms&quot;: false}\n",
              "            ).addTo(map_5d8331a4739ef5632fbf235d291d669a);\n",
              "        \n",
              "    \n",
              "            var layer_control_c86209d24bc40f1ffb938d780aed08ba = {\n",
              "                base_layers : {\n",
              "                    &quot;openstreetmap&quot; : tile_layer_4e8cecebc239f238616e93f85db18b93,\n",
              "                },\n",
              "                overlays :  {\n",
              "                    &quot;Google Maps&quot; : tile_layer_670437b53752a96ded04f658e3dcbaf2,\n",
              "                    &quot;Maize primitive&quot; : tile_layer_bd879e58c9957b5fa19d0d7f914a535c,\n",
              "                },\n",
              "            };\n",
              "            L.control.layers(\n",
              "                layer_control_c86209d24bc40f1ffb938d780aed08ba.base_layers,\n",
              "                layer_control_c86209d24bc40f1ffb938d780aed08ba.overlays,\n",
              "                {&quot;autoZIndex&quot;: true, &quot;collapsed&quot;: true, &quot;position&quot;: &quot;topright&quot;}\n",
              "            ).addTo(map_5d8331a4739ef5632fbf235d291d669a);\n",
              "        \n",
              "&lt;/script&gt;\n",
              "&lt;/html&gt;\" width=\"100%\" height=\"600\"style=\"border:none !important;\" \"allowfullscreen\" \"webkitallowfullscreen\" \"mozallowfullscreen\"></iframe>"
            ]
          },
          "metadata": {},
          "execution_count": 117
        }
      ]
    },
    {
      "cell_type": "code",
      "source": [
        "def Classfiction_RF=function (input,input2){\n",
        "\n",
        "sample = Maize_Nm.randomColumn();\n",
        " split = 0.7;  # Roughly 70% training, 30% testing.\n",
        " trainingPts = sample.filter(ee.Filter.lt('random', split));\n",
        "#print(trainingPts.size());\n",
        "\n",
        "validationPts = sample.filter(ee.Filter.gte('random', split));\n",
        "#print(validationData.size(),'validationData points')\n",
        "# Overlay the training points on the imagery to get a training sample; include\n",
        "#the crop classification property ('class') in the sample feature collection.\n",
        " training = input\n",
        "                   .sampleRegions({\n",
        "                     collection: trainingPts,\n",
        "                     properties: ['Cato'],\n",
        "                     scale: 20,\n",
        "                     tileScale: 16\n",
        "                   })\n",
        "# Map.addLayer(validationData,{},'validationData');\n",
        "#Map.addLayer(trainingrf,{},'trainingrfData');\n",
        "Export.table.toDrive({\n",
        "  collection: training, \n",
        "  description: 'trainingrf_rabi_maize_mon-maize', \n",
        "  fileFormat: 'CSV', #Bihar_croptypepoints_2021_22\n",
        "});\n",
        "#\n",
        "#Train a CART classifier with default parameters.\n",
        "trainedCart = ee.Classifier.smileCart().train(\n",
        "    {features: training, classProperty: 'Cato', inputProperties: input.bandNames()});\n",
        "\n",
        "#Train a random forest classifier with default parameters.\n",
        " trainedRf = ee.Classifier.smileRandomForest({numberOfTrees: 10}).train({\n",
        "  features: training,\n",
        "  classProperty: 'Cato',\n",
        "  inputProperties: input.bandNames()\n",
        "});\n",
        "\n",
        "# Classify the image with the same bands used for training.\n",
        " classifiedCart = input.classify(trainedCart);\n",
        " classifiedRf = input.classify(trainedRf);\n",
        "\n",
        "#Define visualization parameters for classification display.\n",
        "classVis = {min: 1, max: 2, palette: ['f2c649', '484848']};\n",
        "\n",
        "# Add the output of the training classification to the map.\n",
        "Map.addLayer(classifiedCart.clipToCollection(g), classVis, 'Classes (CART)');\n",
        "Map.addLayer(\n",
        "    classifiedRf.clipToCollection(g), classVis, 'Classes (RF)');\n",
        "\n",
        "# Calculate the training error matrix and accuracy for both classifiers by\n",
        "# using the \"confusionMatrix\" function to generate metrics on the\n",
        "#resubstitution accuracy.\n",
        " trainAccuracyCart = trainedCart.confusionMatrix();\n",
        "trainAccuracyRf = trainedRf.confusionMatrix();\n",
        "\n",
        "#Print model accuracy results.\n",
        "print('##### TRAINING ACCURACY #####');\n",
        "#print('CART: overall accuracy:', trainAccuracyCart.accuracy());\n",
        "#print('RF: overall accuracy:', trainAccuracyRf.accuracy());\n",
        "#print('CART: error matrix:', trainAccuracyCart);\n",
        "print('RF: error matrix:', trainAccuracyRf);\n",
        "\n",
        "\n",
        "# Extract band pixel values for validation points.\n",
        " validation =input\n",
        "                     .sampleRegions({\n",
        "                       collection: validationPts,\n",
        "                       properties: ['Cato'],\n",
        "                       scale: 20,\n",
        "                       tileScale: 16\n",
        "                     });\n",
        "                      \n",
        "\n",
        "# Classify the validation data.\n",
        " validatedCart = validation.classify(trainedCart);\n",
        "validatedRf = validation.classify(trainedRf);\n",
        "\n",
        "# Calculate the validation error matrix and accuracy for both classifiers by\n",
        "#using the \"confusionMatrix\" function to generate metrics on the\n",
        "#resubstitution accuracy.\n",
        "\n",
        "validationAccuracyCart =\n",
        "    validatedCart.errorMatrix('class', 'classification');\n",
        "validationAccuracyRf = validatedRf.errorMatrix('class', 'classification');\n",
        "\n",
        "// Print validation accuracy results.\n",
        "print('##### VALIDATION ACCURACY #####');\n",
        "print('CART: overall accuracy:', validationAccuracyCart.accuracy());\n",
        "print('RF: overall accuracy: ', validationAccuracyRf.accuracy());\n",
        "print('CART: error matrix:', validationAccuracyCart);\n",
        "print('RF: error matrix: ', validationAccuracyRf);\n",
        "// Classify the reflectance image from the trained classifier.\n",
        "//var imgClassified = input2.classify(trainedClassifier);\n",
        "// Add the layers to the map."
      ],
      "metadata": {
        "id": "ZK5pVX5p-7_P"
      },
      "execution_count": null,
      "outputs": []
    }
  ]
}